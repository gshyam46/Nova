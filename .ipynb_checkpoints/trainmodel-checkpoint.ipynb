{
 "cells": [
  {
   "cell_type": "code",
   "execution_count": 1,
   "id": "19ce7749",
   "metadata": {},
   "outputs": [],
   "source": [
    "from tensorflow import keras\n",
    "from keras.utils import to_categorical\n",
    "from keras_preprocessing.image import load_img\n",
    "from keras.models import Sequential\n",
    "from keras.layers import Dense, Conv2D, Dropout, Flatten, MaxPooling2D\n",
    "import os\n",
    "import pandas as pd\n",
    "import numpy as np\n",
    "import tensorflow as tf\n"
   ]
  },
  {
   "cell_type": "code",
   "execution_count": 2,
   "id": "a728a5b8",
   "metadata": {},
   "outputs": [
    {
     "data": {
      "text/plain": [
       "[]"
      ]
     },
     "execution_count": 2,
     "metadata": {},
     "output_type": "execute_result"
    }
   ],
   "source": [
    "tf.config.list_physical_devices('GPU')"
   ]
  },
  {
   "cell_type": "code",
   "execution_count": 3,
   "id": "02e9c221",
   "metadata": {},
   "outputs": [],
   "source": [
    "TRAIN_DIR = 'images/train'\n",
    "TEST_DIR = 'images/test'"
   ]
  },
  {
   "cell_type": "code",
   "execution_count": 4,
   "id": "ede9c1f1",
   "metadata": {},
   "outputs": [],
   "source": [
    "def createdataframe(dir):\n",
    "    image_paths = []\n",
    "    labels = []\n",
    "    for label in os.listdir(dir):\n",
    "        for imagename in os.listdir(os.path.join(dir,label)):\n",
    "            image_paths.append(os.path.join(dir,label,imagename))\n",
    "            labels.append(label)\n",
    "        print(label, \"completed\")\n",
    "    return image_paths,labels\n"
   ]
  },
  {
   "cell_type": "code",
   "execution_count": 5,
   "id": "a3a8f1a9",
   "metadata": {},
   "outputs": [
    {
     "name": "stdout",
     "output_type": "stream",
     "text": [
      "angry completed\n",
      "disgust completed\n",
      "fear completed\n",
      "happy completed\n",
      "neutral completed\n",
      "sad completed\n",
      "surprise completed\n"
     ]
    }
   ],
   "source": [
    "train = pd.DataFrame()\n",
    "train['image'], train['label'] = createdataframe(TRAIN_DIR)"
   ]
  },
  {
   "cell_type": "code",
   "execution_count": 6,
   "id": "c8a0cd29",
   "metadata": {},
   "outputs": [
    {
     "name": "stdout",
     "output_type": "stream",
     "text": [
      "                                image     label\n",
      "0            images/train\\angry\\0.jpg     angry\n",
      "1            images/train\\angry\\1.jpg     angry\n",
      "2           images/train\\angry\\10.jpg     angry\n",
      "3        images/train\\angry\\10002.jpg     angry\n",
      "4        images/train\\angry\\10016.jpg     angry\n",
      "...                               ...       ...\n",
      "28816  images/train\\surprise\\9969.jpg  surprise\n",
      "28817  images/train\\surprise\\9985.jpg  surprise\n",
      "28818  images/train\\surprise\\9990.jpg  surprise\n",
      "28819  images/train\\surprise\\9992.jpg  surprise\n",
      "28820  images/train\\surprise\\9996.jpg  surprise\n",
      "\n",
      "[28821 rows x 2 columns]\n"
     ]
    }
   ],
   "source": [
    "print(train)"
   ]
  },
  {
   "cell_type": "code",
   "execution_count": 7,
   "id": "7f9688fc",
   "metadata": {},
   "outputs": [
    {
     "name": "stdout",
     "output_type": "stream",
     "text": [
      "angry completed\n",
      "disgust completed\n",
      "fear completed\n",
      "happy completed\n",
      "neutral completed\n",
      "sad completed\n",
      "surprise completed\n"
     ]
    }
   ],
   "source": [
    "test = pd.DataFrame()\n",
    "test['image'], test['label'] = createdataframe(TEST_DIR)"
   ]
  },
  {
   "cell_type": "code",
   "execution_count": 8,
   "id": "7f504f5d",
   "metadata": {},
   "outputs": [
    {
     "name": "stdout",
     "output_type": "stream",
     "text": [
      "                              image     label\n",
      "0       images/test\\angry\\10052.jpg     angry\n",
      "1       images/test\\angry\\10065.jpg     angry\n",
      "2       images/test\\angry\\10079.jpg     angry\n",
      "3       images/test\\angry\\10095.jpg     angry\n",
      "4       images/test\\angry\\10121.jpg     angry\n",
      "...                             ...       ...\n",
      "7061  images/test\\surprise\\9806.jpg  surprise\n",
      "7062  images/test\\surprise\\9830.jpg  surprise\n",
      "7063  images/test\\surprise\\9853.jpg  surprise\n",
      "7064  images/test\\surprise\\9878.jpg  surprise\n",
      "7065   images/test\\surprise\\993.jpg  surprise\n",
      "\n",
      "[7066 rows x 2 columns]\n",
      "0         images/test\\angry\\10052.jpg\n",
      "1         images/test\\angry\\10065.jpg\n",
      "2         images/test\\angry\\10079.jpg\n",
      "3         images/test\\angry\\10095.jpg\n",
      "4         images/test\\angry\\10121.jpg\n",
      "                    ...              \n",
      "7061    images/test\\surprise\\9806.jpg\n",
      "7062    images/test\\surprise\\9830.jpg\n",
      "7063    images/test\\surprise\\9853.jpg\n",
      "7064    images/test\\surprise\\9878.jpg\n",
      "7065     images/test\\surprise\\993.jpg\n",
      "Name: image, Length: 7066, dtype: object\n"
     ]
    }
   ],
   "source": [
    "print(test)\n",
    "print(test['image'])"
   ]
  },
  {
   "cell_type": "code",
   "execution_count": 9,
   "id": "693324b0",
   "metadata": {},
   "outputs": [],
   "source": [
    "from tqdm.notebook import tqdm"
   ]
  },
  {
   "cell_type": "code",
   "execution_count": 10,
   "id": "f52ccbbe",
   "metadata": {},
   "outputs": [],
   "source": [
    "def extract_features(images):\n",
    "    features = []\n",
    "    for image in tqdm(images):\n",
    "        img = load_img(image,grayscale =  True )\n",
    "        img = np.array(img)\n",
    "        features.append(img)\n",
    "    features = np.array(features)\n",
    "    features = features.reshape(len(features),48,48,1)\n",
    "    return features\n",
    "    "
   ]
  },
  {
   "cell_type": "code",
   "execution_count": 11,
   "id": "942a9d40",
   "metadata": {},
   "outputs": [
    {
     "data": {
      "application/vnd.jupyter.widget-view+json": {
       "model_id": "8d391cb6e661429f81969090649e52ae",
       "version_major": 2,
       "version_minor": 0
      },
      "text/plain": [
       "  0%|          | 0/28821 [00:00<?, ?it/s]"
      ]
     },
     "metadata": {},
     "output_type": "display_data"
    },
    {
     "name": "stderr",
     "output_type": "stream",
     "text": [
      "C:\\Users\\ShyamiLoki\\AppData\\Local\\Programs\\Python\\Python311\\Lib\\site-packages\\keras_preprocessing\\image\\utils.py:107: UserWarning: grayscale is deprecated. Please use color_mode = \"grayscale\"\n",
      "  warnings.warn('grayscale is deprecated. Please use '\n"
     ]
    }
   ],
   "source": [
    "train_features = extract_features(train['image']) "
   ]
  },
  {
   "cell_type": "code",
   "execution_count": 12,
   "id": "c1b294ed",
   "metadata": {},
   "outputs": [
    {
     "data": {
      "application/vnd.jupyter.widget-view+json": {
       "model_id": "5f8529e60ae848788f3bca8bbf92591f",
       "version_major": 2,
       "version_minor": 0
      },
      "text/plain": [
       "  0%|          | 0/7066 [00:00<?, ?it/s]"
      ]
     },
     "metadata": {},
     "output_type": "display_data"
    }
   ],
   "source": [
    "test_features = extract_features(test['image'])"
   ]
  },
  {
   "cell_type": "code",
   "execution_count": 13,
   "id": "f78b5d34",
   "metadata": {},
   "outputs": [],
   "source": [
    "x_train = train_features/255.0\n",
    "x_test = test_features/255.0"
   ]
  },
  {
   "cell_type": "code",
   "execution_count": 14,
   "id": "c660fca1",
   "metadata": {},
   "outputs": [],
   "source": [
    "from sklearn.preprocessing import LabelEncoder"
   ]
  },
  {
   "cell_type": "code",
   "execution_count": 15,
   "id": "5384a25b",
   "metadata": {},
   "outputs": [
    {
     "data": {
      "text/html": [
       "<style>#sk-container-id-1 {color: black;background-color: white;}#sk-container-id-1 pre{padding: 0;}#sk-container-id-1 div.sk-toggleable {background-color: white;}#sk-container-id-1 label.sk-toggleable__label {cursor: pointer;display: block;width: 100%;margin-bottom: 0;padding: 0.3em;box-sizing: border-box;text-align: center;}#sk-container-id-1 label.sk-toggleable__label-arrow:before {content: \"▸\";float: left;margin-right: 0.25em;color: #696969;}#sk-container-id-1 label.sk-toggleable__label-arrow:hover:before {color: black;}#sk-container-id-1 div.sk-estimator:hover label.sk-toggleable__label-arrow:before {color: black;}#sk-container-id-1 div.sk-toggleable__content {max-height: 0;max-width: 0;overflow: hidden;text-align: left;background-color: #f0f8ff;}#sk-container-id-1 div.sk-toggleable__content pre {margin: 0.2em;color: black;border-radius: 0.25em;background-color: #f0f8ff;}#sk-container-id-1 input.sk-toggleable__control:checked~div.sk-toggleable__content {max-height: 200px;max-width: 100%;overflow: auto;}#sk-container-id-1 input.sk-toggleable__control:checked~label.sk-toggleable__label-arrow:before {content: \"▾\";}#sk-container-id-1 div.sk-estimator input.sk-toggleable__control:checked~label.sk-toggleable__label {background-color: #d4ebff;}#sk-container-id-1 div.sk-label input.sk-toggleable__control:checked~label.sk-toggleable__label {background-color: #d4ebff;}#sk-container-id-1 input.sk-hidden--visually {border: 0;clip: rect(1px 1px 1px 1px);clip: rect(1px, 1px, 1px, 1px);height: 1px;margin: -1px;overflow: hidden;padding: 0;position: absolute;width: 1px;}#sk-container-id-1 div.sk-estimator {font-family: monospace;background-color: #f0f8ff;border: 1px dotted black;border-radius: 0.25em;box-sizing: border-box;margin-bottom: 0.5em;}#sk-container-id-1 div.sk-estimator:hover {background-color: #d4ebff;}#sk-container-id-1 div.sk-parallel-item::after {content: \"\";width: 100%;border-bottom: 1px solid gray;flex-grow: 1;}#sk-container-id-1 div.sk-label:hover label.sk-toggleable__label {background-color: #d4ebff;}#sk-container-id-1 div.sk-serial::before {content: \"\";position: absolute;border-left: 1px solid gray;box-sizing: border-box;top: 0;bottom: 0;left: 50%;z-index: 0;}#sk-container-id-1 div.sk-serial {display: flex;flex-direction: column;align-items: center;background-color: white;padding-right: 0.2em;padding-left: 0.2em;position: relative;}#sk-container-id-1 div.sk-item {position: relative;z-index: 1;}#sk-container-id-1 div.sk-parallel {display: flex;align-items: stretch;justify-content: center;background-color: white;position: relative;}#sk-container-id-1 div.sk-item::before, #sk-container-id-1 div.sk-parallel-item::before {content: \"\";position: absolute;border-left: 1px solid gray;box-sizing: border-box;top: 0;bottom: 0;left: 50%;z-index: -1;}#sk-container-id-1 div.sk-parallel-item {display: flex;flex-direction: column;z-index: 1;position: relative;background-color: white;}#sk-container-id-1 div.sk-parallel-item:first-child::after {align-self: flex-end;width: 50%;}#sk-container-id-1 div.sk-parallel-item:last-child::after {align-self: flex-start;width: 50%;}#sk-container-id-1 div.sk-parallel-item:only-child::after {width: 0;}#sk-container-id-1 div.sk-dashed-wrapped {border: 1px dashed gray;margin: 0 0.4em 0.5em 0.4em;box-sizing: border-box;padding-bottom: 0.4em;background-color: white;}#sk-container-id-1 div.sk-label label {font-family: monospace;font-weight: bold;display: inline-block;line-height: 1.2em;}#sk-container-id-1 div.sk-label-container {text-align: center;}#sk-container-id-1 div.sk-container {/* jupyter's `normalize.less` sets `[hidden] { display: none; }` but bootstrap.min.css set `[hidden] { display: none !important; }` so we also need the `!important` here to be able to override the default hidden behavior on the sphinx rendered scikit-learn.org. See: https://github.com/scikit-learn/scikit-learn/issues/21755 */display: inline-block !important;position: relative;}#sk-container-id-1 div.sk-text-repr-fallback {display: none;}</style><div id=\"sk-container-id-1\" class=\"sk-top-container\"><div class=\"sk-text-repr-fallback\"><pre>LabelEncoder()</pre><b>In a Jupyter environment, please rerun this cell to show the HTML representation or trust the notebook. <br />On GitHub, the HTML representation is unable to render, please try loading this page with nbviewer.org.</b></div><div class=\"sk-container\" hidden><div class=\"sk-item\"><div class=\"sk-estimator sk-toggleable\"><input class=\"sk-toggleable__control sk-hidden--visually\" id=\"sk-estimator-id-1\" type=\"checkbox\" checked><label for=\"sk-estimator-id-1\" class=\"sk-toggleable__label sk-toggleable__label-arrow\">LabelEncoder</label><div class=\"sk-toggleable__content\"><pre>LabelEncoder()</pre></div></div></div></div></div>"
      ],
      "text/plain": [
       "LabelEncoder()"
      ]
     },
     "execution_count": 15,
     "metadata": {},
     "output_type": "execute_result"
    }
   ],
   "source": [
    "le = LabelEncoder()\n",
    "le.fit(train['label'])"
   ]
  },
  {
   "cell_type": "code",
   "execution_count": 16,
   "id": "50ece229",
   "metadata": {},
   "outputs": [],
   "source": [
    "y_train = le.transform(train['label'])\n",
    "y_test = le.transform(test['label'])"
   ]
  },
  {
   "cell_type": "code",
   "execution_count": 17,
   "id": "5e284299",
   "metadata": {},
   "outputs": [],
   "source": [
    "y_train = to_categorical(y_train,num_classes = 7)\n",
    "y_test = to_categorical(y_test,num_classes = 7)"
   ]
  },
  {
   "cell_type": "code",
   "execution_count": 18,
   "id": "3977223a",
   "metadata": {},
   "outputs": [],
   "source": [
    "model = Sequential()\n",
    "# convolutional layers\n",
    "model.add(Conv2D(128, kernel_size=(3,3), activation='relu', input_shape=(48,48,1)))\n",
    "model.add(MaxPooling2D(pool_size=(2,2)))\n",
    "model.add(Dropout(0.4))\n",
    "\n",
    "model.add(Conv2D(256, kernel_size=(3,3), activation='relu'))\n",
    "model.add(MaxPooling2D(pool_size=(2,2)))\n",
    "model.add(Dropout(0.4))\n",
    "\n",
    "model.add(Conv2D(512, kernel_size=(3,3), activation='relu'))\n",
    "model.add(MaxPooling2D(pool_size=(2,2)))\n",
    "model.add(Dropout(0.4))\n",
    "\n",
    "model.add(Conv2D(512, kernel_size=(3,3), activation='relu'))\n",
    "model.add(MaxPooling2D(pool_size=(2,2)))\n",
    "model.add(Dropout(0.4))\n",
    "\n",
    "model.add(Flatten())\n",
    "# fully connected layers\n",
    "model.add(Dense(512, activation='relu'))\n",
    "model.add(Dropout(0.4))\n",
    "model.add(Dense(256, activation='relu'))\n",
    "model.add(Dropout(0.3))\n",
    "# output layer\n",
    "model.add(Dense(7, activation='softmax'))"
   ]
  },
  {
   "cell_type": "code",
   "execution_count": 19,
   "id": "de986d6e",
   "metadata": {},
   "outputs": [],
   "source": [
    "model.compile(optimizer = 'adam', loss = 'categorical_crossentropy', metrics = 'accuracy' )"
   ]
  },
  {
   "cell_type": "code",
   "execution_count": 20,
   "id": "5cd0b130",
   "metadata": {},
   "outputs": [
    {
     "name": "stdout",
     "output_type": "stream",
     "text": [
      "Epoch 1/100\n",
      "226/226 [==============================] - 312s 1s/step - loss: 1.8252 - accuracy: 0.2426 - val_loss: 1.8089 - val_accuracy: 0.2583\n",
      "Epoch 2/100\n",
      "226/226 [==============================] - 290s 1s/step - loss: 1.8040 - accuracy: 0.2511 - val_loss: 1.7769 - val_accuracy: 0.2631\n",
      "Epoch 3/100\n",
      "226/226 [==============================] - 242s 1s/step - loss: 1.7471 - accuracy: 0.2738 - val_loss: 1.6719 - val_accuracy: 0.3300\n",
      "Epoch 4/100\n",
      "226/226 [==============================] - 327s 1s/step - loss: 1.6512 - accuracy: 0.3373 - val_loss: 1.5054 - val_accuracy: 0.4229\n",
      "Epoch 5/100\n",
      "226/226 [==============================] - 321s 1s/step - loss: 1.5484 - accuracy: 0.3942 - val_loss: 1.4487 - val_accuracy: 0.4329\n",
      "Epoch 6/100\n",
      "226/226 [==============================] - 318s 1s/step - loss: 1.4719 - accuracy: 0.4281 - val_loss: 1.3451 - val_accuracy: 0.4774\n",
      "Epoch 7/100\n",
      "226/226 [==============================] - 317s 1s/step - loss: 1.4172 - accuracy: 0.4517 - val_loss: 1.3137 - val_accuracy: 0.4980\n",
      "Epoch 8/100\n",
      "226/226 [==============================] - 323s 1s/step - loss: 1.3859 - accuracy: 0.4675 - val_loss: 1.2595 - val_accuracy: 0.5201\n",
      "Epoch 9/100\n",
      "226/226 [==============================] - 327s 1s/step - loss: 1.3521 - accuracy: 0.4806 - val_loss: 1.2313 - val_accuracy: 0.5296\n",
      "Epoch 10/100\n",
      "226/226 [==============================] - 327s 1s/step - loss: 1.3243 - accuracy: 0.4943 - val_loss: 1.2158 - val_accuracy: 0.5307\n",
      "Epoch 11/100\n",
      "226/226 [==============================] - 336s 1s/step - loss: 1.3052 - accuracy: 0.5024 - val_loss: 1.2054 - val_accuracy: 0.5488\n",
      "Epoch 12/100\n",
      "226/226 [==============================] - 331s 1s/step - loss: 1.2897 - accuracy: 0.5055 - val_loss: 1.1979 - val_accuracy: 0.5541\n",
      "Epoch 13/100\n",
      "226/226 [==============================] - 326s 1s/step - loss: 1.2670 - accuracy: 0.5151 - val_loss: 1.1776 - val_accuracy: 0.5512\n",
      "Epoch 14/100\n",
      "226/226 [==============================] - 322s 1s/step - loss: 1.2604 - accuracy: 0.5181 - val_loss: 1.1788 - val_accuracy: 0.5504\n",
      "Epoch 15/100\n",
      "226/226 [==============================] - 328s 1s/step - loss: 1.2444 - accuracy: 0.5300 - val_loss: 1.1443 - val_accuracy: 0.5658\n",
      "Epoch 16/100\n",
      "226/226 [==============================] - 328s 1s/step - loss: 1.2330 - accuracy: 0.5301 - val_loss: 1.1599 - val_accuracy: 0.5589\n",
      "Epoch 17/100\n",
      "226/226 [==============================] - 328s 1s/step - loss: 1.2219 - accuracy: 0.5383 - val_loss: 1.1429 - val_accuracy: 0.5667\n",
      "Epoch 18/100\n",
      "226/226 [==============================] - 327s 1s/step - loss: 1.2046 - accuracy: 0.5425 - val_loss: 1.1237 - val_accuracy: 0.5754\n",
      "Epoch 19/100\n",
      "226/226 [==============================] - 327s 1s/step - loss: 1.1974 - accuracy: 0.5464 - val_loss: 1.1155 - val_accuracy: 0.5785\n",
      "Epoch 20/100\n",
      "226/226 [==============================] - 329s 1s/step - loss: 1.1834 - accuracy: 0.5521 - val_loss: 1.1214 - val_accuracy: 0.5770\n",
      "Epoch 21/100\n",
      "226/226 [==============================] - 329s 1s/step - loss: 1.1723 - accuracy: 0.5526 - val_loss: 1.1043 - val_accuracy: 0.5831\n",
      "Epoch 22/100\n",
      "226/226 [==============================] - 331s 1s/step - loss: 1.1651 - accuracy: 0.5572 - val_loss: 1.1089 - val_accuracy: 0.5829\n",
      "Epoch 23/100\n",
      "226/226 [==============================] - 329s 1s/step - loss: 1.1590 - accuracy: 0.5626 - val_loss: 1.0984 - val_accuracy: 0.5903\n",
      "Epoch 24/100\n",
      "226/226 [==============================] - 329s 1s/step - loss: 1.1452 - accuracy: 0.5675 - val_loss: 1.0996 - val_accuracy: 0.5865\n",
      "Epoch 25/100\n",
      "226/226 [==============================] - 328s 1s/step - loss: 1.1372 - accuracy: 0.5694 - val_loss: 1.0973 - val_accuracy: 0.5918\n",
      "Epoch 26/100\n",
      "226/226 [==============================] - 330s 1s/step - loss: 1.1234 - accuracy: 0.5762 - val_loss: 1.0827 - val_accuracy: 0.5935\n",
      "Epoch 27/100\n",
      "226/226 [==============================] - 331s 1s/step - loss: 1.1254 - accuracy: 0.5728 - val_loss: 1.0819 - val_accuracy: 0.5989\n",
      "Epoch 28/100\n",
      "226/226 [==============================] - 329s 1s/step - loss: 1.1233 - accuracy: 0.5749 - val_loss: 1.0778 - val_accuracy: 0.5993\n",
      "Epoch 29/100\n",
      "226/226 [==============================] - 329s 1s/step - loss: 1.1058 - accuracy: 0.5833 - val_loss: 1.0835 - val_accuracy: 0.5968\n",
      "Epoch 30/100\n",
      "226/226 [==============================] - 329s 1s/step - loss: 1.0956 - accuracy: 0.5852 - val_loss: 1.0840 - val_accuracy: 0.5965\n",
      "Epoch 31/100\n",
      "226/226 [==============================] - 330s 1s/step - loss: 1.1018 - accuracy: 0.5833 - val_loss: 1.0740 - val_accuracy: 0.5998\n",
      "Epoch 32/100\n",
      "226/226 [==============================] - 329s 1s/step - loss: 1.0861 - accuracy: 0.5894 - val_loss: 1.1125 - val_accuracy: 0.5877\n",
      "Epoch 33/100\n",
      "226/226 [==============================] - 328s 1s/step - loss: 1.0786 - accuracy: 0.5918 - val_loss: 1.0771 - val_accuracy: 0.5975\n",
      "Epoch 34/100\n",
      "226/226 [==============================] - 330s 1s/step - loss: 1.0719 - accuracy: 0.5961 - val_loss: 1.0675 - val_accuracy: 0.6043\n",
      "Epoch 35/100\n",
      "226/226 [==============================] - 329s 1s/step - loss: 1.0690 - accuracy: 0.5955 - val_loss: 1.0676 - val_accuracy: 0.6064\n",
      "Epoch 36/100\n",
      "226/226 [==============================] - 328s 1s/step - loss: 1.0653 - accuracy: 0.5978 - val_loss: 1.0879 - val_accuracy: 0.5995\n",
      "Epoch 37/100\n",
      "226/226 [==============================] - 328s 1s/step - loss: 1.0609 - accuracy: 0.6009 - val_loss: 1.0646 - val_accuracy: 0.6063\n",
      "Epoch 38/100\n",
      "226/226 [==============================] - 328s 1s/step - loss: 1.0414 - accuracy: 0.6067 - val_loss: 1.0744 - val_accuracy: 0.6005\n",
      "Epoch 39/100\n",
      "226/226 [==============================] - 330s 1s/step - loss: 1.0561 - accuracy: 0.6013 - val_loss: 1.0547 - val_accuracy: 0.6087\n",
      "Epoch 40/100\n",
      "226/226 [==============================] - 329s 1s/step - loss: 1.0426 - accuracy: 0.6065 - val_loss: 1.0669 - val_accuracy: 0.6046\n",
      "Epoch 41/100\n",
      "226/226 [==============================] - 329s 1s/step - loss: 1.0348 - accuracy: 0.6102 - val_loss: 1.0458 - val_accuracy: 0.6111\n",
      "Epoch 42/100\n",
      "226/226 [==============================] - 330s 1s/step - loss: 1.0319 - accuracy: 0.6114 - val_loss: 1.0537 - val_accuracy: 0.6084\n",
      "Epoch 43/100\n",
      "226/226 [==============================] - 331s 1s/step - loss: 1.0276 - accuracy: 0.6100 - val_loss: 1.0472 - val_accuracy: 0.6114\n",
      "Epoch 44/100\n",
      "226/226 [==============================] - 330s 1s/step - loss: 1.0146 - accuracy: 0.6128 - val_loss: 1.0512 - val_accuracy: 0.6077\n",
      "Epoch 45/100\n",
      "226/226 [==============================] - 329s 1s/step - loss: 1.0150 - accuracy: 0.6163 - val_loss: 1.0555 - val_accuracy: 0.6127\n",
      "Epoch 46/100\n",
      "226/226 [==============================] - 329s 1s/step - loss: 1.0102 - accuracy: 0.6182 - val_loss: 1.0455 - val_accuracy: 0.6176\n",
      "Epoch 47/100\n",
      "226/226 [==============================] - 331s 1s/step - loss: 1.0074 - accuracy: 0.6236 - val_loss: 1.0546 - val_accuracy: 0.6153\n",
      "Epoch 48/100\n",
      "226/226 [==============================] - 330s 1s/step - loss: 0.9911 - accuracy: 0.6275 - val_loss: 1.0424 - val_accuracy: 0.6183\n",
      "Epoch 49/100\n",
      "226/226 [==============================] - 330s 1s/step - loss: 0.9950 - accuracy: 0.6251 - val_loss: 1.0553 - val_accuracy: 0.6110\n",
      "Epoch 50/100\n",
      "226/226 [==============================] - 329s 1s/step - loss: 0.9868 - accuracy: 0.6295 - val_loss: 1.0381 - val_accuracy: 0.6213\n",
      "Epoch 51/100\n",
      "226/226 [==============================] - 329s 1s/step - loss: 0.9811 - accuracy: 0.6304 - val_loss: 1.0334 - val_accuracy: 0.6156\n",
      "Epoch 52/100\n",
      "226/226 [==============================] - 329s 1s/step - loss: 0.9741 - accuracy: 0.6353 - val_loss: 1.0404 - val_accuracy: 0.6223\n",
      "Epoch 53/100\n",
      "226/226 [==============================] - 331s 1s/step - loss: 0.9732 - accuracy: 0.6352 - val_loss: 1.0391 - val_accuracy: 0.6187\n",
      "Epoch 54/100\n",
      "226/226 [==============================] - 331s 1s/step - loss: 0.9685 - accuracy: 0.6319 - val_loss: 1.0356 - val_accuracy: 0.6200\n",
      "Epoch 55/100\n",
      "226/226 [==============================] - 330s 1s/step - loss: 0.9667 - accuracy: 0.6373 - val_loss: 1.0414 - val_accuracy: 0.6168\n",
      "Epoch 56/100\n",
      "226/226 [==============================] - 330s 1s/step - loss: 0.9664 - accuracy: 0.6381 - val_loss: 1.0310 - val_accuracy: 0.6193\n",
      "Epoch 57/100\n"
     ]
    },
    {
     "name": "stdout",
     "output_type": "stream",
     "text": [
      "226/226 [==============================] - 329s 1s/step - loss: 0.9572 - accuracy: 0.6420 - val_loss: 1.0309 - val_accuracy: 0.6251\n",
      "Epoch 58/100\n",
      "226/226 [==============================] - 330s 1s/step - loss: 0.9525 - accuracy: 0.6458 - val_loss: 1.0383 - val_accuracy: 0.6197\n",
      "Epoch 59/100\n",
      "226/226 [==============================] - 328s 1s/step - loss: 0.9555 - accuracy: 0.6433 - val_loss: 1.0283 - val_accuracy: 0.6175\n",
      "Epoch 60/100\n",
      "226/226 [==============================] - 329s 1s/step - loss: 0.9415 - accuracy: 0.6485 - val_loss: 1.0292 - val_accuracy: 0.6216\n",
      "Epoch 61/100\n",
      "226/226 [==============================] - 330s 1s/step - loss: 0.9349 - accuracy: 0.6525 - val_loss: 1.0367 - val_accuracy: 0.6204\n",
      "Epoch 62/100\n",
      "226/226 [==============================] - 328s 1s/step - loss: 0.9325 - accuracy: 0.6513 - val_loss: 1.0212 - val_accuracy: 0.6251\n",
      "Epoch 63/100\n",
      "226/226 [==============================] - 329s 1s/step - loss: 0.9174 - accuracy: 0.6585 - val_loss: 1.0272 - val_accuracy: 0.6224\n",
      "Epoch 64/100\n",
      "226/226 [==============================] - 330s 1s/step - loss: 0.9253 - accuracy: 0.6567 - val_loss: 1.0367 - val_accuracy: 0.6192\n",
      "Epoch 65/100\n",
      "226/226 [==============================] - 329s 1s/step - loss: 0.9224 - accuracy: 0.6566 - val_loss: 1.0266 - val_accuracy: 0.6216\n",
      "Epoch 66/100\n",
      "226/226 [==============================] - 329s 1s/step - loss: 0.9131 - accuracy: 0.6584 - val_loss: 1.0328 - val_accuracy: 0.6189\n",
      "Epoch 67/100\n",
      "226/226 [==============================] - 329s 1s/step - loss: 0.9137 - accuracy: 0.6601 - val_loss: 1.0283 - val_accuracy: 0.6219\n",
      "Epoch 68/100\n",
      "226/226 [==============================] - 330s 1s/step - loss: 0.9039 - accuracy: 0.6590 - val_loss: 1.0375 - val_accuracy: 0.6202\n",
      "Epoch 69/100\n",
      "226/226 [==============================] - 329s 1s/step - loss: 0.9110 - accuracy: 0.6575 - val_loss: 1.0221 - val_accuracy: 0.6252\n",
      "Epoch 70/100\n",
      "226/226 [==============================] - 329s 1s/step - loss: 0.8991 - accuracy: 0.6658 - val_loss: 1.0288 - val_accuracy: 0.6251\n",
      "Epoch 71/100\n",
      "226/226 [==============================] - 329s 1s/step - loss: 0.8936 - accuracy: 0.6668 - val_loss: 1.0175 - val_accuracy: 0.6281\n",
      "Epoch 72/100\n",
      "226/226 [==============================] - 330s 1s/step - loss: 0.8942 - accuracy: 0.6684 - val_loss: 1.0337 - val_accuracy: 0.6216\n",
      "Epoch 73/100\n",
      "226/226 [==============================] - 328s 1s/step - loss: 0.8873 - accuracy: 0.6693 - val_loss: 1.0250 - val_accuracy: 0.6291\n",
      "Epoch 74/100\n",
      "226/226 [==============================] - 330s 1s/step - loss: 0.8722 - accuracy: 0.6748 - val_loss: 1.0333 - val_accuracy: 0.6244\n",
      "Epoch 75/100\n",
      "226/226 [==============================] - 330s 1s/step - loss: 0.8793 - accuracy: 0.6711 - val_loss: 1.0319 - val_accuracy: 0.6226\n",
      "Epoch 76/100\n",
      "226/226 [==============================] - 328s 1s/step - loss: 0.8796 - accuracy: 0.6732 - val_loss: 1.0225 - val_accuracy: 0.6306\n",
      "Epoch 77/100\n",
      "226/226 [==============================] - 330s 1s/step - loss: 0.8629 - accuracy: 0.6787 - val_loss: 1.0289 - val_accuracy: 0.6247\n",
      "Epoch 78/100\n",
      "226/226 [==============================] - 330s 1s/step - loss: 0.8669 - accuracy: 0.6789 - val_loss: 1.0299 - val_accuracy: 0.6241\n",
      "Epoch 79/100\n",
      "226/226 [==============================] - 330s 1s/step - loss: 0.8628 - accuracy: 0.6843 - val_loss: 1.0355 - val_accuracy: 0.6245\n",
      "Epoch 80/100\n",
      "226/226 [==============================] - 330s 1s/step - loss: 0.8620 - accuracy: 0.6799 - val_loss: 1.0295 - val_accuracy: 0.6247\n",
      "Epoch 81/100\n",
      "226/226 [==============================] - 330s 1s/step - loss: 0.8600 - accuracy: 0.6813 - val_loss: 1.0307 - val_accuracy: 0.6227\n",
      "Epoch 82/100\n",
      "226/226 [==============================] - 330s 1s/step - loss: 0.8518 - accuracy: 0.6850 - val_loss: 1.0311 - val_accuracy: 0.6288\n",
      "Epoch 83/100\n",
      "226/226 [==============================] - 329s 1s/step - loss: 0.8505 - accuracy: 0.6860 - val_loss: 1.0206 - val_accuracy: 0.6315\n",
      "Epoch 84/100\n",
      "226/226 [==============================] - 329s 1s/step - loss: 0.8485 - accuracy: 0.6850 - val_loss: 1.0232 - val_accuracy: 0.6295\n",
      "Epoch 85/100\n",
      "226/226 [==============================] - 330s 1s/step - loss: 0.8381 - accuracy: 0.6910 - val_loss: 1.0239 - val_accuracy: 0.6288\n",
      "Epoch 86/100\n",
      "226/226 [==============================] - 334s 1s/step - loss: 0.8366 - accuracy: 0.6886 - val_loss: 1.0286 - val_accuracy: 0.6238\n",
      "Epoch 87/100\n",
      "226/226 [==============================] - 333s 1s/step - loss: 0.8326 - accuracy: 0.6897 - val_loss: 1.0253 - val_accuracy: 0.6288\n",
      "Epoch 88/100\n",
      "226/226 [==============================] - 331s 1s/step - loss: 0.8341 - accuracy: 0.6954 - val_loss: 1.0353 - val_accuracy: 0.6254\n",
      "Epoch 89/100\n",
      "226/226 [==============================] - 329s 1s/step - loss: 0.8285 - accuracy: 0.6946 - val_loss: 1.0295 - val_accuracy: 0.6340\n",
      "Epoch 90/100\n",
      "226/226 [==============================] - 332s 1s/step - loss: 0.8275 - accuracy: 0.6965 - val_loss: 1.0210 - val_accuracy: 0.6344\n",
      "Epoch 91/100\n",
      "226/226 [==============================] - 332s 1s/step - loss: 0.8158 - accuracy: 0.6996 - val_loss: 1.0208 - val_accuracy: 0.6352\n",
      "Epoch 92/100\n",
      "226/226 [==============================] - 332s 1s/step - loss: 0.8207 - accuracy: 0.6983 - val_loss: 1.0282 - val_accuracy: 0.6298\n",
      "Epoch 93/100\n",
      "226/226 [==============================] - 329s 1s/step - loss: 0.8123 - accuracy: 0.7009 - val_loss: 1.0239 - val_accuracy: 0.6306\n",
      "Epoch 94/100\n",
      "226/226 [==============================] - 329s 1s/step - loss: 0.8183 - accuracy: 0.7009 - val_loss: 1.0196 - val_accuracy: 0.6330\n",
      "Epoch 95/100\n",
      "226/226 [==============================] - 328s 1s/step - loss: 0.8052 - accuracy: 0.7043 - val_loss: 1.0114 - val_accuracy: 0.6335\n",
      "Epoch 96/100\n",
      "226/226 [==============================] - 330s 1s/step - loss: 0.8027 - accuracy: 0.7055 - val_loss: 1.0210 - val_accuracy: 0.6347\n",
      "Epoch 97/100\n",
      "226/226 [==============================] - 329s 1s/step - loss: 0.7972 - accuracy: 0.7067 - val_loss: 1.0215 - val_accuracy: 0.6265\n",
      "Epoch 98/100\n",
      "226/226 [==============================] - 329s 1s/step - loss: 0.7936 - accuracy: 0.7097 - val_loss: 1.0184 - val_accuracy: 0.6318\n",
      "Epoch 99/100\n",
      "226/226 [==============================] - 330s 1s/step - loss: 0.7941 - accuracy: 0.7072 - val_loss: 1.0268 - val_accuracy: 0.6359\n",
      "Epoch 100/100\n",
      "226/226 [==============================] - 333s 1s/step - loss: 0.7901 - accuracy: 0.7086 - val_loss: 1.0292 - val_accuracy: 0.6268\n"
     ]
    },
    {
     "data": {
      "text/plain": [
       "<keras.src.callbacks.History at 0x23ec1fd54d0>"
      ]
     },
     "execution_count": 20,
     "metadata": {},
     "output_type": "execute_result"
    }
   ],
   "source": [
    "model.fit(x= x_train,y = y_train, batch_size = 128, epochs = 100, validation_data = (x_test,y_test)) "
   ]
  },
  {
   "cell_type": "code",
   "execution_count": 44,
   "id": "2b0f1923",
   "metadata": {},
   "outputs": [
    {
     "name": "stdout",
     "output_type": "stream",
     "text": [
      "WARNING:tensorflow:Compiled the loaded model, but the compiled metrics have yet to be built. `model.compile_metrics` will be empty until you train or evaluate the model.\n"
     ]
    },
    {
     "name": "stderr",
     "output_type": "stream",
     "text": [
      "C:\\Users\\ShyamiLoki\\AppData\\Local\\Programs\\Python\\Python311\\Lib\\site-packages\\keras\\src\\engine\\training.py:3000: UserWarning: You are saving your model as an HDF5 file via `model.save()`. This file format is considered legacy. We recommend using instead the native Keras format, e.g. `model.save('my_model.keras')`.\n",
      "  saving_api.save_model(\n"
     ]
    }
   ],
   "source": [
    "model_json = model.to_json()\n",
    "with open(\"emotiondetector.json\",'w') as json_file:\n",
    "    json_file.write(model_json)\n",
    "model.save(\"emotiondetector.h5\")"
   ]
  },
  {
   "cell_type": "code",
   "execution_count": 45,
   "id": "46e2098e",
   "metadata": {},
   "outputs": [],
   "source": [
    "from keras.models import model_from_json"
   ]
  },
  {
   "cell_type": "code",
   "execution_count": 46,
   "id": "90703547",
   "metadata": {},
   "outputs": [],
   "source": [
    "json_file = open(\"emotiondetector.json\", \"r\")\n",
    "model_json = json_file.read()\n",
    "json_file.close()\n",
    "model = model_from_json(model_json)\n",
    "model.load_weights(\"emotiondetector.h5\")"
   ]
  },
  {
   "cell_type": "code",
   "execution_count": 47,
   "id": "3932bbe8",
   "metadata": {},
   "outputs": [],
   "source": [
    "label = ['angry','disgust','fear','happy','neutral','sad','surprise']"
   ]
  },
  {
   "cell_type": "code",
   "execution_count": 48,
   "id": "b0ccbacf",
   "metadata": {},
   "outputs": [],
   "source": [
    "def ef(image):\n",
    "    img = load_img(image,grayscale =  True )\n",
    "    feature = np.array(img)\n",
    "    feature = feature.reshape(1,48,48,1)\n",
    "    return feature/255.0\n",
    "    "
   ]
  },
  {
   "cell_type": "code",
   "execution_count": 49,
   "id": "5882c78e",
   "metadata": {},
   "outputs": [
    {
     "name": "stdout",
     "output_type": "stream",
     "text": [
      "original image is of sad\n",
      "1/1 [==============================] - 0s 111ms/step\n",
      "model prediction is  sad\n"
     ]
    }
   ],
   "source": [
    "image = 'images/train/sad/66.jpg'\n",
    "print(\"original image is of sad\")\n",
    "img = ef(image)\n",
    "pred = model.predict(img)\n",
    "pred_label = label[pred.argmax()]\n",
    "print(\"model prediction is \",pred_label)"
   ]
  },
  {
   "cell_type": "code",
   "execution_count": 50,
   "id": "8994206c",
   "metadata": {},
   "outputs": [],
   "source": [
    "import matplotlib.pyplot as plt\n",
    "%matplotlib inline"
   ]
  },
  {
   "cell_type": "code",
   "execution_count": 51,
   "id": "c83af9e1",
   "metadata": {},
   "outputs": [
    {
     "name": "stdout",
     "output_type": "stream",
     "text": [
      "original image is of sad\n",
      "1/1 [==============================] - 0s 26ms/step\n",
      "model prediction is  sad\n"
     ]
    },
    {
     "data": {
      "text/plain": [
       "<matplotlib.image.AxesImage at 0x23ec8d16910>"
      ]
     },
     "execution_count": 51,
     "metadata": {},
     "output_type": "execute_result"
    },
    {
     "data": {
      "image/png": "[encoded data removed]",
      "text/plain": [
       "<Figure size 640x480 with 1 Axes>"
      ]
     },
     "metadata": {},
     "output_type": "display_data"
    }
   ],
   "source": [
    "image = 'images/train/sad/104.jpg'\n",
    "print(\"original image is of sad\")\n",
    "img = ef(image)\n",
    "pred = model.predict(img)\n",
    "pred_label = label[pred.argmax()]\n",
    "print(\"model prediction is \",pred_label)\n",
    "plt.imshow(img.reshape(48,48),cmap='gray')"
   ]
  },
  {
   "cell_type": "code",
   "execution_count": 52,
   "id": "5adb7b7a",
   "metadata": {},
   "outputs": [
    {
     "name": "stdout",
     "output_type": "stream",
     "text": [
      "original image is of fear\n",
      "1/1 [==============================] - 0s 24ms/step\n",
      "model prediction is  fear\n"
     ]
    },
    {
     "data": {
      "text/plain": [
       "<matplotlib.image.AxesImage at 0x23ec8e911d0>"
      ]
     },
     "execution_count": 52,
     "metadata": {},
     "output_type": "execute_result"
    },
    {
     "data": {
      "image/png": "[encoded data removed]",
      "text/plain": [
       "<Figure size 640x480 with 1 Axes>"
      ]
     },
     "metadata": {},
     "output_type": "display_data"
    }
   ],
   "source": [
    "image = 'images/train/fear/300.jpg'\n",
    "print(\"original image is of fear\")\n",
    "img = ef(image)\n",
    "pred = model.predict(img)\n",
    "pred_label = label[pred.argmax()]\n",
    "print(\"model prediction is \",pred_label)\n",
    "plt.imshow(img.reshape(48,48),cmap='gray')"
   ]
  },
  {
   "cell_type": "code",
   "execution_count": 53,
   "id": "e5ea96ba",
   "metadata": {},
   "outputs": [
    {
     "name": "stdout",
     "output_type": "stream",
     "text": [
      "original image is of disgust\n",
      "1/1 [==============================] - 0s 24ms/step\n",
      "model prediction is  disgust\n"
     ]
    },
    {
     "data": {
      "text/plain": [
       "<matplotlib.image.AxesImage at 0x23ec8f01a50>"
      ]
     },
     "execution_count": 53,
     "metadata": {},
     "output_type": "execute_result"
    },
    {
     "data": {
      "image/png": "[encoded data removed]",
      "text/plain": [
       "<Figure size 640x480 with 1 Axes>"
      ]
     },
     "metadata": {},
     "output_type": "display_data"
    }
   ],
   "source": [
    "image = 'images/train/disgust/299.jpg'\n",
    "print(\"original image is of disgust\")\n",
    "img = ef(image)\n",
    "pred = model.predict(img)\n",
    "pred_label = label[pred.argmax()]\n",
    "print(\"model prediction is \",pred_label)\n",
    "plt.imshow(img.reshape(48,48),cmap='gray')"
   ]
  },
  {
   "cell_type": "code",
   "execution_count": 54,
   "id": "1c4befa7",
   "metadata": {},
   "outputs": [
    {
     "name": "stdout",
     "output_type": "stream",
     "text": [
      "original image is of happy\n",
      "1/1 [==============================] - 0s 27ms/step\n",
      "model prediction is  happy\n"
     ]
    },
    {
     "data": {
      "text/plain": [
       "<matplotlib.image.AxesImage at 0x23ec8f65d90>"
      ]
     },
     "execution_count": 54,
     "metadata": {},
     "output_type": "execute_result"
    },
    {
     "data": {
      "image/png": "[encoded data removed]",
      "text/plain": [
       "<Figure size 640x480 with 1 Axes>"
      ]
     },
     "metadata": {},
     "output_type": "display_data"
    }
   ],
   "source": [
    "image = 'images/train/happy/7.jpg'\n",
    "print(\"original image is of happy\")\n",
    "img = ef(image)\n",
    "pred = model.predict(img)\n",
    "pred_label = label[pred.argmax()]\n",
    "print(\"model prediction is \",pred_label)\n",
    "plt.imshow(img.reshape(48,48),cmap='gray')"
   ]
  },
  {
   "cell_type": "code",
   "execution_count": 55,
   "id": "8d6bb2fa",
   "metadata": {},
   "outputs": [
    {
     "name": "stdout",
     "output_type": "stream",
     "text": [
      "original image is of surprise\n",
      "1/1 [==============================] - 0s 27ms/step\n",
      "model prediction is  surprise\n"
     ]
    },
    {
     "data": {
      "text/plain": [
       "<matplotlib.image.AxesImage at 0x23ecbfbb5d0>"
      ]
     },
     "execution_count": 55,
     "metadata": {},
     "output_type": "execute_result"
    },
    {
     "data": {
      "image/png": "[encoded data removed]",
      "text/plain": [
       "<Figure size 640x480 with 1 Axes>"
      ]
     },
     "metadata": {},
     "output_type": "display_data"
    }
   ],
   "source": [
    "image = 'images/train/surprise/15.jpg'\n",
    "print(\"original image is of surprise\")\n",
    "img = ef(image)\n",
    "pred = model.predict(img)\n",
    "pred_label = label[pred.argmax()]\n",
    "print(\"model prediction is \",pred_label)\n",
    "plt.imshow(img.reshape(48,48),cmap='gray')"
   ]
  },
  {
   "cell_type": "code",
   "execution_count": null,
   "id": "b005764f",
   "metadata": {},
   "outputs": [],
   "source": []
  }
 ],
 "metadata": {
  "kernelspec": {
   "display_name": "Python 3 (ipykernel)",
   "language": "python",
   "name": "python3"
  },
  "language_info": {
   "codemirror_mode": {
    "name": "ipython",
    "version": 3
   },
   "file_extension": ".py",
   "mimetype": "text/x-python",
   "name": "python",
   "nbconvert_exporter": "python",
   "pygments_lexer": "ipython3",
   "version": "3.11.1"
  }
 },
 "nbformat": 4,
 "nbformat_minor": 5
}
